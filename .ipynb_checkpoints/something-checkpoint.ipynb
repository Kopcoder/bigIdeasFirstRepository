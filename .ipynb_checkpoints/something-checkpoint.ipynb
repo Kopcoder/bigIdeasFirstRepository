{
 "cells": [
  {
   "cell_type": "code",
   "execution_count": 9,
   "metadata": {},
   "outputs": [
    {
     "name": "stdin",
     "output_type": "stream",
     "text": [
      "What is the name of your thing? Robbie\n",
      "What is the value of your thing? 5\n"
     ]
    },
    {
     "name": "stdout",
     "output_type": "stream",
     "text": [
      "Robbie  has been adjusted to  10  because something has been done to it.\n"
     ]
    }
   ],
   "source": [
    "def doSomething(var):\n",
    "    return int(var) + 5\n",
    "nm = input(\"What is the name of your thing?\")\n",
    "val = input(\"What is the value of your thing?\")\n",
    "val = doSomething(val)\n",
    "print(nm, \" has been adjusted to \", val, \" because something has been done to it.\")"
   ]
  },
  {
   "cell_type": "code",
   "execution_count": null,
   "metadata": {},
   "outputs": [],
   "source": []
  }
 ],
 "metadata": {
  "kernelspec": {
   "display_name": "Python 3",
   "language": "python",
   "name": "python3"
  },
  "language_info": {
   "codemirror_mode": {
    "name": "ipython",
    "version": 3
   },
   "file_extension": ".py",
   "mimetype": "text/x-python",
   "name": "python",
   "nbconvert_exporter": "python",
   "pygments_lexer": "ipython3",
   "version": "3.8.5"
  }
 },
 "nbformat": 4,
 "nbformat_minor": 4
}
